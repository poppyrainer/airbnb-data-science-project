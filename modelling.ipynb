{
 "cells": [
  {
   "cell_type": "code",
   "execution_count": 106,
   "metadata": {},
   "outputs": [],
   "source": [
    "import pandas as pd\n",
    "import tabular_data as td\n",
    "\n",
    "df = pd.read_csv('AirBnbData.csv')\n",
    "df = td.prepare_data(df)\n",
    "\n",
    "features, labels = td.load_airbnb(df,\"Price_Night\")\n"
   ]
  },
  {
   "cell_type": "code",
   "execution_count": null,
   "metadata": {},
   "outputs": [],
   "source": [
    "df.describe()"
   ]
  },
  {
   "cell_type": "code",
   "execution_count": 107,
   "metadata": {},
   "outputs": [],
   "source": [
    "from sklearn.model_selection import train_test_split\n",
    "\n",
    "X = features\n",
    "y = labels\n",
    "\n",
    "X_train, X_test, y_train, y_test = train_test_split(X, y, test_size=0.33)\n",
    "X_test, X_validation, y_test, y_validation = train_test_split(X_test, y_test, test_size=0.3)\n",
    "\n",
    "from sklearn.linear_model import LinearRegression\n",
    "model = LinearRegression()\n",
    "\n",
    "model.fit(X_train,y_train)\n",
    "y_train_pred = model.predict(X_train)\n",
    "y_validation_pred = model.predict(X_validation)\n",
    "y_test_pred = model.predict(X_test)\n",
    "\n"
   ]
  },
  {
   "cell_type": "code",
   "execution_count": 108,
   "metadata": {},
   "outputs": [
    {
     "name": "stdout",
     "output_type": "stream",
     "text": [
      "Train Loss: 9929.654331497864 | Validation Loss: 9590.310264367254 | Test Loss: 8851.16074300491\n"
     ]
    }
   ],
   "source": [
    "from sklearn.metrics import mean_squared_error\n",
    "\n",
    "train_loss = mean_squared_error(y_train, y_train_pred)\n",
    "validation_loss = mean_squared_error(y_validation, y_validation_pred)\n",
    "test_loss = mean_squared_error(y_test, y_test_pred)\n",
    "\n",
    "print(\n",
    "    f\"Train Loss: {train_loss} | Validation Loss: {validation_loss} | Test Loss: {test_loss}\"\n",
    ")"
   ]
  },
  {
   "cell_type": "code",
   "execution_count": 109,
   "metadata": {},
   "outputs": [
    {
     "name": "stderr",
     "output_type": "stream",
     "text": [
      "/Library/Frameworks/Python.framework/Versions/3.10/lib/python3.10/site-packages/seaborn/_decorators.py:36: FutureWarning: Pass the following variables as keyword args: x, y. From version 0.12, the only valid positional argument will be `data`, and passing other arguments without an explicit keyword will result in an error or misinterpretation.\n",
      "  warnings.warn(\n"
     ]
    },
    {
     "data": {
      "text/plain": [
       "<AxesSubplot:xlabel='Price_Night'>"
      ]
     },
     "execution_count": 109,
     "metadata": {},
     "output_type": "execute_result"
    },
    {
     "data": {
      "image/png": "[encoded data removed]",
      "text/plain": [
       "<Figure size 432x288 with 1 Axes>"
      ]
     },
     "metadata": {
      "needs_background": "light"
     },
     "output_type": "display_data"
    }
   ],
   "source": [
    "import matplotlib.pyplot as plt\n",
    "import seaborn as sns\n",
    "\n",
    "sns.regplot(y_test,y_test_pred)\n",
    "sns.regplot(y_validation,y_validation_pred)"
   ]
  },
  {
   "cell_type": "code",
   "execution_count": 110,
   "metadata": {},
   "outputs": [
    {
     "name": "stdout",
     "output_type": "stream",
     "text": [
      "Mean square error: 8851.16074300491\n",
      "Root mean square error: 94.08060768832709\n",
      "R2 score: 0.4663258447085704\n"
     ]
    }
   ],
   "source": [
    "import numpy as np\n",
    "import math\n",
    "from sklearn.metrics import mean_squared_error\n",
    "from sklearn.metrics import r2_score\n",
    "\n",
    "mse = mean_squared_error(y_test, y_test_pred)\n",
    "rmse = math.sqrt(mse)\n",
    "r2 = r2_score(y_test,y_test_pred)\n",
    "\n",
    "print('Mean square error:',mse)\n",
    "print('Root mean square error:',rmse)\n",
    "print('R2 score:',r2)\n",
    "\n",
    "\n",
    "# Note - these results are poor\n"
   ]
  },
  {
   "cell_type": "code",
   "execution_count": 111,
   "metadata": {},
   "outputs": [],
   "source": [
    "from sklearn.linear_model import SGDRegressor"
   ]
  },
  {
   "cell_type": "code",
   "execution_count": 112,
   "metadata": {},
   "outputs": [
    {
     "name": "stdout",
     "output_type": "stream",
     "text": [
      "{'loss': 'epsilon_insensitive', 'learning_rate': 'constant'}\n",
      "{'mse': 11815.304326185224, 'rmse': 108.6982259569365, 'r2': 0.2585547419533445}\n"
     ]
    }
   ],
   "source": [
    "def tune_regression_model_hyperparameters(model, test_sets, hyperparameter_dict):\n",
    "    best_rmse = 100000\n",
    "    best_hyperparameter_values_dict = {}\n",
    "    performrance_metrics_dict={}\n",
    "\n",
    "    for i in hyperparameter_dict['loss']:\n",
    "        for j in hyperparameter_dict['learning_rate']:\n",
    "            my_model =  model(loss=i,learning_rate=j)\n",
    "            \n",
    "            my_model.fit(X_train,y_train)\n",
    "            y_validation_pred = my_model.predict(X_validation)\n",
    "\n",
    "            mse = mean_squared_error(y_validation, y_validation_pred)\n",
    "            rmse = math.sqrt(mse)\n",
    "            r2 = r2_score(y_validation, y_validation_pred)\n",
    "\n",
    "            if rmse < best_rmse:\n",
    "                best_rmse = rmse\n",
    "                best_hyperparameter_values_dict[\"loss\"] = i\n",
    "                best_hyperparameter_values_dict[\"learning_rate\"] = j \n",
    "                performrance_metrics_dict[\"mse\"] = mse\n",
    "                performrance_metrics_dict[\"rmse\"] = rmse\n",
    "                performrance_metrics_dict[\"r2\"] = r2\n",
    "                best_model = model\n",
    "\n",
    "    return best_model, best_hyperparameter_values_dict, performrance_metrics_dict\n",
    "\n",
    "\n",
    "test_sets = [X_train,X_validation, X_test, y_train, y_validation, y_test]\n",
    "model = SGDRegressor\n",
    "hyperparameter_dict={\n",
    "    \"loss\":['squared_error', 'huber', 'epsilon_insensitive','squared_epsilon_insensitive'],\n",
    "    \"learning_rate\":['constant', 'optimal', 'invscaling', 'adaptive']\n",
    "    }\n",
    "\n",
    "best_model, best_hyperparameter_values_dict, performrance_metrics_dict = tune_regression_model_hyperparameters(model,test_sets,hyperparameter_dict)\n",
    "print(best_hyperparameter_values_dict)\n",
    "print(performrance_metrics_dict)"
   ]
  }
 ],
 "metadata": {
  "interpreter": {
   "hash": "aee8b7b246df8f9039afb4144a1f6fd8d2ca17a180786b69acc140d282b71a49"
  },
  "kernelspec": {
   "display_name": "Python 3.10.4 64-bit",
   "language": "python",
   "name": "python3"
  },
  "language_info": {
   "codemirror_mode": {
    "name": "ipython",
    "version": 3
   },
   "file_extension": ".py",
   "mimetype": "text/x-python",
   "name": "python",
   "nbconvert_exporter": "python",
   "pygments_lexer": "ipython3",
   "version": "3.10.4"
  },
  "orig_nbformat": 4
 },
 "nbformat": 4,
 "nbformat_minor": 2
}
